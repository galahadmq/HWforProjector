{
  "cells": [
    {
      "cell_type": "markdown",
      "metadata": {
        "id": "view-in-github",
        "colab_type": "text"
      },
      "source": [
        "<a href=\"https://colab.research.google.com/github/galahadmq/HWforProjector/blob/main/%227_1_assignment_ipynb%22.ipynb\" target=\"_parent\"><img src=\"https://colab.research.google.com/assets/colab-badge.svg\" alt=\"Open In Colab\"/></a>"
      ]
    },
    {
      "cell_type": "markdown",
      "metadata": {
        "id": "K-xXkt9Ztf7J"
      },
      "source": [
        "# Assignment 7.1\n",
        "\n",
        "> Replace all TODOs with your code.\n",
        ">\n",
        "> Do not change any other code and do not add/remove cells!"
      ]
    },
    {
      "cell_type": "code",
      "execution_count": null,
      "metadata": {
        "id": "sGdc6BbbALg9"
      },
      "outputs": [],
      "source": [
        "# Do not edit this cell\n",
        "\n",
        "from typing import List, Dict"
      ]
    },
    {
      "cell_type": "markdown",
      "metadata": {
        "id": "cfhcjaX0vXXa"
      },
      "source": [
        "## Clients"
      ]
    },
    {
      "cell_type": "markdown",
      "metadata": {
        "id": "Vlz14hyr6wV6"
      },
      "source": [
        "### Task 1\n",
        "\n",
        "Write a function that takes a GitHub repository name as input and uses the [GitHub Repository API](https://docs.github.com/en/rest/repos) to retrieve and return information about the specified repository, including:\n",
        "\n",
        "* Repository Name\n",
        "* Owner\n",
        "* Description\n",
        "* License (if available)\n",
        "* Creation Date\n",
        "\n",
        "Use the `requests` module for this task."
      ]
    },
    {
      "cell_type": "code",
      "execution_count": 1,
      "metadata": {
        "id": "vDYn-dRb7xIX",
        "colab": {
          "base_uri": "https://localhost:8080/"
        },
        "outputId": "66c6fb7e-6cdb-4497-afa9-360aa6e80ac9"
      },
      "outputs": [
        {
          "output_type": "stream",
          "name": "stdout",
          "text": [
            "{'Repository Name': 'Hello-World', 'Owner': 'octocat', 'Description': 'My first repository on GitHub!', 'License': 'No License', 'Creation Date': '2011-01-26T19:01:12Z'}\n"
          ]
        }
      ],
      "source": [
        "import requests\n",
        "from typing import Dict\n",
        "\n",
        "def get_repository_info(repo_name: str) -> Dict[str, str]:\n",
        "    url = f\"https://api.github.com/repos/{repo_name}\"\n",
        "    response = requests.get(url)\n",
        "    response.raise_for_status()\n",
        "    data = response.json()\n",
        "    repository_info = {\n",
        "            \"Repository Name\": data.get(\"name\"),\n",
        "            \"Owner\": data.get(\"owner\", {}).get(\"login\"),\n",
        "            \"Description\": data.get(\"description\"),\n",
        "            \"License\": data.get(\"license\").get(\"name\") if data.get(\"license\") else \"No License\",\n",
        "            \"Creation Date\": data.get(\"created_at\"),\n",
        "    }\n",
        "    return repository_info\n",
        "\n",
        "repo_info = get_repository_info(\"octocat/Hello-World\")\n",
        "print(repo_info)"
      ]
    },
    {
      "cell_type": "markdown",
      "metadata": {
        "id": "0TC34gv79VEo"
      },
      "source": [
        "### Task 2\n",
        "\n",
        "Write a function that takes a GitHub repository name and uses the [GitHub Commits API](https://docs.github.com/en/rest/commits/commits) to retrieve and return information about the five most recent commits in a selected GitHub repository, including:\n",
        "* Commit Message\n",
        "* Author\n",
        "* Date\n",
        "* Link to the commit on GitHub\n",
        "\n",
        "Use the `requests` module for this task."
      ]
    },
    {
      "cell_type": "code",
      "execution_count": 4,
      "metadata": {
        "id": "Kf2284dT-atu",
        "colab": {
          "base_uri": "https://localhost:8080/"
        },
        "outputId": "da714ede-76c9-4bb2-9cc4-38c6a81837df"
      },
      "outputs": [
        {
          "output_type": "stream",
          "name": "stdout",
          "text": [
            "{'Commit Message': 'Merge pull request #6 from Spaceghost/patch-1\\n\\nNew line at end of file.', 'Author': 'The Octocat', 'Date': '2012-03-06T23:06:50Z', 'Link to the commit on GitHub': 'https://github.com/octocat/Hello-World/commit/7fd1a60b01f91b314f59955a4e4d4e80d8edf11d'}\n",
            "{'Commit Message': 'New line at end of file. --Signed off by Spaceghost', 'Author': 'Johnneylee Jack Rollins', 'Date': '2011-09-14T04:42:41Z', 'Link to the commit on GitHub': 'https://github.com/octocat/Hello-World/commit/762941318ee16e59dabbacb1b4049eec22f0d303'}\n",
            "{'Commit Message': 'first commit', 'Author': 'cameronmcefee', 'Date': '2011-01-26T19:06:08Z', 'Link to the commit on GitHub': 'https://github.com/octocat/Hello-World/commit/553c2077f0edc3d5dc5d17262f6aa498e69d6f8e'}\n"
          ]
        }
      ],
      "source": [
        "import requests\n",
        "from typing import Dict, List\n",
        "\n",
        "def get_recent_commits(repo_name: str) -> List[Dict[str, str]]:\n",
        "    url = f\"https://api.github.com/repos/{repo_name}/commits\"\n",
        "    response = requests.get(url)\n",
        "    response.raise_for_status()\n",
        "    data = response.json()\n",
        "\n",
        "    commits_info = []\n",
        "    for commit in data:\n",
        "        commit_info = {\n",
        "            'Commit Message': commit['commit'].get('message'),\n",
        "            'Author': commit['commit'].get('author', {}).get('name'),\n",
        "            'Date': commit['commit'].get('author', {}).get('date'),\n",
        "            'Link to the commit on GitHub': commit.get('html_url')\n",
        "        }\n",
        "        commits_info.append(commit_info)\n",
        "\n",
        "    return commits_info\n",
        "\n",
        "commits = get_recent_commits(\"octocat/Hello-World\")\n",
        "for commit in commits:\n",
        "    print(commit)"
      ]
    }
  ],
  "metadata": {
    "colab": {
      "provenance": [],
      "include_colab_link": true
    },
    "kernelspec": {
      "display_name": "Python 3",
      "name": "python3"
    },
    "language_info": {
      "name": "python"
    }
  },
  "nbformat": 4,
  "nbformat_minor": 0
}