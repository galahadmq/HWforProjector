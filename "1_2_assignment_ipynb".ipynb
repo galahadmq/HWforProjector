{
  "cells": [
    {
      "cell_type": "markdown",
      "metadata": {
        "id": "view-in-github",
        "colab_type": "text"
      },
      "source": [
        "<a href=\"https://colab.research.google.com/github/galahadmq/HWforProjector/blob/master/%221_2_assignment_ipynb%22.ipynb\" target=\"_parent\"><img src=\"https://colab.research.google.com/assets/colab-badge.svg\" alt=\"Open In Colab\"/></a>"
      ]
    },
    {
      "cell_type": "markdown",
      "metadata": {
        "id": "-89_Z_je0cfL"
      },
      "source": [
        "# Assignment 1.2\n",
        "\n",
        "> Replace all TODOs with your code. Do not change any other code."
      ]
    },
    {
      "cell_type": "markdown",
      "metadata": {
        "id": "w6E-GxTB0j4M"
      },
      "source": [
        "## Boolean, None"
      ]
    },
    {
      "cell_type": "markdown",
      "metadata": {
        "id": "iEwuf_DP0cfM"
      },
      "source": [
        "### Task 1\n",
        "\n",
        "Replace all `TODO`s with one of the logical operators to make all the expressions `True`."
      ]
    },
    {
      "cell_type": "code",
      "execution_count": 2,
      "metadata": {
        "id": "IWVOCWxx0cfM",
        "tags": [
          "task_1"
        ],
        "colab": {
          "base_uri": "https://localhost:8080/"
        },
        "outputId": "401f0d64-83c6-49cb-c28a-3cdb5f39b32f"
      },
      "outputs": [
        {
          "output_type": "stream",
          "name": "stdout",
          "text": [
            "1 True\n",
            "2 True\n",
            "3 True\n",
            "4 True\n",
            "5 True\n"
          ]
        }
      ],
      "source": [
        "print('1', 4 < 5)\n",
        "print('2', 10 > 5)\n",
        "print('3', 42 == 42)\n",
        "print('4', 42 != \"42\")\n",
        "print('5', 'None' != None)"
      ]
    },
    {
      "cell_type": "markdown",
      "metadata": {
        "id": "mZydlWw_0wzt"
      },
      "source": [
        "## String"
      ]
    },
    {
      "cell_type": "markdown",
      "metadata": {
        "id": "2z8HqsaK0cfN"
      },
      "source": [
        "### Task 2\n",
        "\n",
        "You have a string in the variable `a`. Remove all letters \"e\" from it."
      ]
    },
    {
      "cell_type": "code",
      "execution_count": 4,
      "metadata": {
        "id": "kva_9ycA0cfN",
        "tags": [
          "task_2"
        ],
        "colab": {
          "base_uri": "https://localhost:8080/"
        },
        "outputId": "17258a91-3860-47cd-f5ae-f90d66b39735"
      },
      "outputs": [
        {
          "output_type": "stream",
          "name": "stdout",
          "text": [
            "res = Sombody said somthing to Samantha.\n"
          ]
        }
      ],
      "source": [
        "a = \"Somebody said something to Samantha.\"\n",
        "\n",
        "res = a.replace('e', '')\n",
        "\n",
        "print('res =', res)  # Should be \"Sombody said somthing to Samantha\""
      ]
    },
    {
      "cell_type": "markdown",
      "metadata": {
        "id": "IqjW7SGS0cfN"
      },
      "source": [
        "### Task 3\n",
        "\n",
        "Make all letters of the string `a` lowercase."
      ]
    },
    {
      "cell_type": "code",
      "execution_count": 3,
      "metadata": {
        "id": "p83RQvA40cfN",
        "tags": [
          "task_3"
        ],
        "colab": {
          "base_uri": "https://localhost:8080/"
        },
        "outputId": "f3e48c88-84e8-4251-ba07-29b4ae2cabf7"
      },
      "outputs": [
        {
          "output_type": "stream",
          "name": "stdout",
          "text": [
            "res = animals\n"
          ]
        }
      ],
      "source": [
        "a = 'Animals'\n",
        "\n",
        "res = a.lower()\n",
        "print('res =', res)  # Should be \"animals\""
      ]
    },
    {
      "cell_type": "markdown",
      "metadata": {
        "id": "CKS_sLMj0cfN"
      },
      "source": [
        "### Task 4\n",
        "Remove all spaces from **the beginning and end** of the string `a`."
      ]
    },
    {
      "cell_type": "code",
      "execution_count": 5,
      "metadata": {
        "id": "tXZbJ3Jn0cfN",
        "tags": [
          "task_4"
        ],
        "colab": {
          "base_uri": "https://localhost:8080/"
        },
        "outputId": "84129fd4-308f-4ba7-a3b7-cad3d58a1453"
      },
      "outputs": [
        {
          "output_type": "stream",
          "name": "stdout",
          "text": [
            "res = Fancy string\n"
          ]
        }
      ],
      "source": [
        "a = '   Fancy string   '\n",
        "\n",
        "res = a.strip()\n",
        "\n",
        "print('res =', res)  # Should be \"Fancy string\""
      ]
    },
    {
      "cell_type": "markdown",
      "metadata": {
        "id": "a1oauilt0cfN"
      },
      "source": [
        "### Task 5\n",
        "Remove all spaces from **the end** of the string `a`."
      ]
    },
    {
      "cell_type": "code",
      "execution_count": 6,
      "metadata": {
        "id": "CLgRuR0H0cfO",
        "tags": [
          "task_5"
        ],
        "colab": {
          "base_uri": "https://localhost:8080/"
        },
        "outputId": "9ddb9a2c-6434-4f9a-a89d-fb95cb44c923"
      },
      "outputs": [
        {
          "output_type": "stream",
          "name": "stdout",
          "text": [
            "res =    Fancy string\n"
          ]
        }
      ],
      "source": [
        "a = '   Fancy string   '\n",
        "\n",
        "res = a.rstrip()\n",
        "\n",
        "print('res =', res)  # Should be \"   Fancy string\""
      ]
    }
  ],
  "metadata": {
    "colab": {
      "provenance": [],
      "toc_visible": true,
      "include_colab_link": true
    },
    "kernelspec": {
      "display_name": "venv",
      "language": "python",
      "name": "python3"
    },
    "language_info": {
      "codemirror_mode": {
        "name": "ipython",
        "version": 3
      },
      "file_extension": ".py",
      "mimetype": "text/x-python",
      "name": "python",
      "nbconvert_exporter": "python",
      "pygments_lexer": "ipython3",
      "version": "3.9.6"
    },
    "orig_nbformat": 4
  },
  "nbformat": 4,
  "nbformat_minor": 0
}