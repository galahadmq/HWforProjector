{
  "cells": [
    {
      "cell_type": "markdown",
      "metadata": {
        "id": "view-in-github",
        "colab_type": "text"
      },
      "source": [
        "<a href=\"https://colab.research.google.com/github/galahadmq/HWforProjector/blob/main/%228_2_assigment_ipynb%22.ipynb\" target=\"_parent\"><img src=\"https://colab.research.google.com/assets/colab-badge.svg\" alt=\"Open In Colab\"/></a>"
      ]
    },
    {
      "cell_type": "markdown",
      "metadata": {
        "id": "ozOVKEIKm8aP"
      },
      "source": [
        "# Assignment 8.2\n",
        "\n",
        "> Replace all TODOs with your code.\n",
        ">\n",
        "> Do not change any other code and do not add/remove cells!"
      ]
    },
    {
      "cell_type": "markdown",
      "metadata": {
        "id": "GRPST61knD1_"
      },
      "source": [
        "## Inheritance"
      ]
    },
    {
      "cell_type": "markdown",
      "metadata": {
        "id": "TIeo4PGfnH_f"
      },
      "source": [
        "### Task 1\n",
        "\n",
        "Define a base class named `Account` to a general bank account.\n",
        "\n",
        "The class should include an initialization method (`__init__`), taking into account the number and holder name and methods for depositing money to the account and withdrawing from it. Do not forget to ensure that the account never has a negative balance.\n",
        "\n",
        "String representation (`__str__`) should be an abstract method (throw a corresponding error if it is called on the base `Account` class"
      ]
    },
    {
      "cell_type": "code",
      "execution_count": 3,
      "metadata": {
        "id": "es4kM6panjNB"
      },
      "outputs": [],
      "source": [
        "class Account:\n",
        "    def __init__(self, name, number, balance):\n",
        "        self.name = name\n",
        "        self.number = number\n",
        "        self.balance = balance\n",
        "\n",
        "    def deposit(self, amount):\n",
        "      self.balance += amount\n",
        "\n",
        "    def withdraw(self, amount):\n",
        "      if self.balance > amount:\n",
        "        self.balance -= amount\n",
        "      else:\n",
        "        raise ValueError(\"You don`t have so much money\")\n",
        "\n",
        "    def __str__(self):\n",
        "      pass\n"
      ]
    },
    {
      "cell_type": "markdown",
      "metadata": {
        "id": "4FjqIBbCnqh3"
      },
      "source": [
        "### Task 2\n",
        "\n",
        "Derive a `CurrentAccount` subclass from the `Account` base class and provide its own implementation for the `__str__` method. The text representation should mention the type of account, account number, and remaining balance."
      ]
    },
    {
      "cell_type": "code",
      "execution_count": 4,
      "metadata": {
        "id": "VNhS9FjCr-_k"
      },
      "outputs": [],
      "source": [
        "class Account:\n",
        "    def __init__(self, name, number, balance):\n",
        "        self.name = name\n",
        "        self.number = number\n",
        "        self.balance = balance\n",
        "\n",
        "    def deposit(self, amount):\n",
        "      self.balance += amount\n",
        "\n",
        "    def withdraw(self, amount):\n",
        "      if self.balance > amount:\n",
        "        self.balance -= amount\n",
        "      else:\n",
        "        raise ValueError(\"You don`t have so much money\")\n",
        "\n",
        "    def __str__(self):\n",
        "      pass\n",
        "\n",
        "class CurrentAccount(Account):\n",
        "    def __init__(self, name, number, balance):\n",
        "      super().__init__(name, number, balance)\n",
        "\n",
        "    def __str__(self):\n",
        "      return f\"User name: {self.name}, Number: {self.number}, Balance: {self.balance}\"\n",
        ""
      ]
    },
    {
      "cell_type": "markdown",
      "metadata": {
        "id": "h-CdQzoOtjy6"
      },
      "source": [
        "### Task 3\n",
        "\n",
        "Derive a `SavingsAccount` subclass from the `Account` base class and provide its implementation for the `__str__` method. When initializing objects of this class, the caller must provide the `interest_rate` parameter.\n",
        "\n",
        " The text representation should mention the type of account, interest rate, account number, and remaining balance.\n",
        "\n",
        "Provide additional method `add_interest` that adds interest based on `interest_rate`:\n",
        "$$new\\_balance = old\\_balance + old\\_balance * interest\\_rate$$"
      ]
    },
    {
      "cell_type": "code",
      "execution_count": null,
      "metadata": {
        "id": "akQXzV_vtweO"
      },
      "outputs": [],
      "source": [
        "class Account:\n",
        "    def __init__(self, name, number, balance):\n",
        "        self.name = name\n",
        "        self.number = number\n",
        "        self.balance = balance\n",
        "\n",
        "    def deposit(self, amount):\n",
        "      self.balance += amount\n",
        "\n",
        "    def withdraw(self, amount):\n",
        "      if self.balance > amount:\n",
        "        self.balance -= amount\n",
        "      else:\n",
        "        raise ValueError(\"You don`t have so much money\")\n",
        "\n",
        "    def __str__(self):\n",
        "      pass\n",
        "\n",
        "class CurrentAccount(Account):\n",
        "    def __init__(self, name, number, balance):\n",
        "      super().__init__(name, number, balance)\n",
        "\n",
        "    def __str__(self):\n",
        "      return f\"User name: {self.name}, Number: {self.number}, Balance: {self.balance}\"\n",
        "\n",
        "class SavingsAccount(Account):\n",
        "      acc_type = \"Saving account\"\n",
        "\n",
        "      def __init__(self, name, number, balance, interest_rate):\n",
        "        super().__init__(name, number, balance)\n",
        "        self.interest_rate = interest_rate\n",
        "\n",
        "      def add_interest(self):\n",
        "        self.balance += self.balance + self.balance * self.interest_rate\n",
        "\n",
        "      def __str__(self):\n",
        "          return (f\"{acc_type}: SavingsAccount, Interest Rate: {self.interest_rate}%, \"\n",
        "                        f\"Account Number: {self.number}, Balance: {self.balance}\")"
      ]
    },
    {
      "cell_type": "markdown",
      "metadata": {
        "id": "724_WyJry8i9"
      },
      "source": [
        "### Task 4\n",
        "\n",
        "Create an array with different accounts, add/withdraw money from some of them, iterate over the array, and print the text representation of each."
      ]
    },
    {
      "cell_type": "code",
      "execution_count": 10,
      "metadata": {
        "id": "BDZA3L25zZEo",
        "colab": {
          "base_uri": "https://localhost:8080/"
        },
        "outputId": "ea02d0bf-1ed8-401e-c4e1-d45f7e9a956e"
      },
      "outputs": [
        {
          "output_type": "stream",
          "name": "stdout",
          "text": [
            "You don`t have so much money\n",
            "User name: Nikita, Number: 12, Balance: 700.0\n",
            "Account type:Saving account, Interest Rate: 0.05%, Account Number: 13, Balance: 2050.0\n",
            "User name: Buckshot, Number: 14, Balance: 150.0\n",
            "Account type:Saving account, Interest Rate: 0.03%, Account Number: 115, Balance: 1500.0\n"
          ]
        }
      ],
      "source": [
        "class Account:\n",
        "    def __init__(self, name, number, balance):\n",
        "        self.name = name\n",
        "        self.number = number\n",
        "        self.balance = balance\n",
        "\n",
        "    def deposit(self, amount):\n",
        "      self.balance += amount\n",
        "\n",
        "    def withdraw(self, amount):\n",
        "      if self.balance > amount:\n",
        "        self.balance -= amount\n",
        "      else:\n",
        "        raise ValueError(\"You don`t have so much money\")\n",
        "\n",
        "    def __str__(self):\n",
        "      pass\n",
        "\n",
        "class CurrentAccount(Account):\n",
        "    def __init__(self, name, number, balance):\n",
        "      super().__init__(name, number, balance)\n",
        "\n",
        "    def __str__(self):\n",
        "      return f\"User name: {self.name}, Number: {self.number}, Balance: {self.balance}\"\n",
        "\n",
        "class SavingsAccount(Account):\n",
        "      acc_type = \"Saving account\"\n",
        "\n",
        "      def __init__(self, name, number, balance, interest_rate):\n",
        "        super().__init__(name, number, balance)\n",
        "        self.interest_rate = interest_rate\n",
        "\n",
        "      def add_interest(self):\n",
        "        self.balance += self.balance + self.balance * self.interest_rate\n",
        "\n",
        "      def __str__(self):\n",
        "          return (f\"Account type:{self.acc_type}, Interest Rate: {self.interest_rate}%, \"\n",
        "                        f\"Account Number: {self.number}, Balance: {self.balance}\")\n",
        "\n",
        "accounts = []\n",
        "\n",
        "accounts.append(CurrentAccount(name=\"Nikita\", number=12, balance=500.0))\n",
        "accounts.append(SavingsAccount(name=\"Sematary\", number=13, balance=1000.0, interest_rate=0.05))\n",
        "accounts.append(CurrentAccount(name=\"Buckshot\", number=14, balance=200.0))\n",
        "accounts.append(SavingsAccount(name=\"Turnabout\", number=115, balance=1500.0, interest_rate=0.03))\n",
        "\n",
        "accounts[0].deposit(200)\n",
        "accounts[1].add_interest()\n",
        "accounts[2].withdraw(50)\n",
        "try:\n",
        "    accounts[3].withdraw(2000)\n",
        "except ValueError as e:\n",
        "    print(e)\n",
        "\n",
        "for account in accounts:\n",
        "    print(account)"
      ]
    }
  ],
  "metadata": {
    "colab": {
      "provenance": [],
      "toc_visible": true,
      "include_colab_link": true
    },
    "kernelspec": {
      "display_name": "Python 3",
      "name": "python3"
    },
    "language_info": {
      "name": "python"
    }
  },
  "nbformat": 4,
  "nbformat_minor": 0
}