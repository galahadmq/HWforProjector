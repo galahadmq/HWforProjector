{
  "cells": [
    {
      "cell_type": "markdown",
      "metadata": {
        "id": "view-in-github",
        "colab_type": "text"
      },
      "source": [
        "<a href=\"https://colab.research.google.com/github/galahadmq/HWforProjector/blob/main/%228_1_assigment_ipynb%22.ipynb\" target=\"_parent\"><img src=\"https://colab.research.google.com/assets/colab-badge.svg\" alt=\"Open In Colab\"/></a>"
      ]
    },
    {
      "cell_type": "markdown",
      "metadata": {
        "id": "2_R_Ya7UhcB8"
      },
      "source": [
        "# Assignment 8.1\n",
        "\n",
        "> Replace all TODOs with your code.\n",
        ">\n",
        "> Do not change any other code and do not add/remove cells!"
      ]
    },
    {
      "cell_type": "markdown",
      "metadata": {
        "id": "N1SWwMSshfVz"
      },
      "source": [
        "## Classes"
      ]
    },
    {
      "cell_type": "markdown",
      "metadata": {
        "id": "OY8NxJ-CiePg"
      },
      "source": [
        "### Task 1\n",
        "\n",
        "Define a Python class named `Interval` with the following specifications:\n",
        "\n",
        "1. The class should have a constructor (\\_\\_init__) that takes two parameters, start and end, and initializes the interval with these values.\n",
        "2. Ensure that both start and end are numeric (either integers or floats).\n",
        "3. Ensure that the start value is less than or equal to the end value.\n",
        "4. Provide a \\_\\_str__ method to return a string representation of the interval in the format \"[start, end]\"."
      ]
    },
    {
      "cell_type": "code",
      "execution_count": null,
      "metadata": {
        "id": "VBFmFWDXjQPT"
      },
      "outputs": [],
      "source": [
        "class Interval:\n",
        "    def __init__(self, start, end):\n",
        "        try:\n",
        "            if not (isinstance(start, int) and isinstance(end, int)):\n",
        "                raise TypeError(\"Type Error\")\n",
        "            if start > end:\n",
        "                raise ValueError(\"Input error\")\n",
        "        except (TypeError, ValueError) as error:\n",
        "            print(f\"Error: {error}\")\n",
        "            raise\n",
        "        self.start = start\n",
        "        self.end = end\n",
        "        self.interval = end - start\n",
        "\n",
        "    def __str__(self):\n",
        "        return f'Interval from {self.start} to {self.end} is {self.interval}'\n",
        "\n",
        "interval = Interval(1, 5)\n",
        "print(interval) # [1, 5]"
      ]
    },
    {
      "cell_type": "markdown",
      "metadata": {
        "id": "pJ72CYiylhIY"
      },
      "source": [
        "### Task 2\n",
        "\n",
        "Expand the Interval class by adding a method named `is_overlapping` that checks whether the current interval overlaps with another interval. The method should take another Interval object as a parameter and return `True` if there is an overlap and `False` otherwise."
      ]
    },
    {
      "cell_type": "code",
      "execution_count": null,
      "metadata": {
        "id": "7t64cfMdl3qe"
      },
      "outputs": [],
      "source": [
        "class Interval:\n",
        "    def __init__(self, start, end):\n",
        "        try:\n",
        "            if not (isinstance(start, int) and isinstance(end, int)):\n",
        "                raise TypeError(\"Type Error\")\n",
        "            if start > end:\n",
        "                raise ValueError(\"Input error\")\n",
        "        except (TypeError, ValueError) as error:\n",
        "            print(f\"Error: {error}\")\n",
        "            raise\n",
        "        self.start = start\n",
        "        self.end = end\n",
        "        self.interval = end - start\n",
        "\n",
        "    def __str__(self):\n",
        "        return f'Interval from {self.start} to {self.end} is {self.interval}'\n",
        "\n",
        "    def is_overlapping(self, other):\n",
        "        return not (self.end < other.start or self.start > other.end)\n",
        "\n",
        "interval1 = Interval(10, 12)\n",
        "interval2 = Interval(8, 10)\n",
        "\n",
        "overlap_result = interval1.is_overlapping(interval2)\n",
        "print(\"Do intervals overlap?\", overlap_result)"
      ]
    },
    {
      "cell_type": "markdown",
      "metadata": {
        "id": "aelqtEfkni2N"
      },
      "source": [
        "### Task 3\n",
        "\n",
        "Expand the `Interval` class by adding a **static** method named `intersection_static` that calculates the intersection of two overlapping intervals. The static method should take two `Interval` objects as parameters and return a new `Interval` representing the intersection if there is one.\n",
        "\n",
        "The method should return `None` if the intervals do not overlap."
      ]
    },
    {
      "cell_type": "code",
      "execution_count": null,
      "metadata": {
        "id": "E6DNMmTRoyNa"
      },
      "outputs": [],
      "source": [
        "class Interval:\n",
        "    def __init__(self, start, end):\n",
        "        try:\n",
        "            if not (isinstance(start, int) and isinstance(end, int)):\n",
        "                raise TypeError(\"Type Error\")\n",
        "            if start > end:\n",
        "                raise ValueError(\"Input error\")\n",
        "        except (TypeError, ValueError) as error:\n",
        "            print(f\"Error: {error}\")\n",
        "            raise\n",
        "        self.start = start\n",
        "        self.end = end\n",
        "        self.interval = end - start\n",
        "\n",
        "    def __str__(self):\n",
        "        return f'Interval from {self.start} to {self.end} is {self.interval}'\n",
        "\n",
        "    def is_overlapping(self, other):\n",
        "        return not (self.end < other.start or self.start > other.end)\n",
        "\n",
        "    @staticmethod\n",
        "    def intersection_static(self, other):\n",
        "        if self.is_overlapping(other):\n",
        "            new_start = max(self.start, other.start)\n",
        "            new_end = min(self.end, other.end)\n",
        "            return Interval(new_start, new_end)\n",
        "        else:\n",
        "            return None\n",
        "\n",
        "interval1 = Interval(1, 5)\n",
        "interval2 = Interval(3, 8)\n",
        "\n",
        "overlap_result = interval1.is_overlapping(interval2)\n",
        "print(\"Do intervals overlap?\", overlap_result) # Do intervals overlap? True\n",
        "\n",
        "intersection_result_static = Interval.intersection_static(interval1, interval2)\n",
        "print(\"Intersection result (static method):\", intersection_result_static) # Intersection result (static method): [3, 5]"
      ]
    },
    {
      "cell_type": "markdown",
      "metadata": {
        "id": "xGh7oQHFtsSl"
      },
      "source": [
        "### Task 4\n",
        "\n",
        "Expand the `Interval` class by overloading a math operator \"&\" to calculate the intersection of two overlapping intervals. Define the logic for the intersection using the method from the previous task."
      ]
    },
    {
      "cell_type": "code",
      "execution_count": 1,
      "metadata": {
        "id": "3f3CiUlGu1cq",
        "colab": {
          "base_uri": "https://localhost:8080/"
        },
        "outputId": "0f1c9a92-75f4-46fd-c3fa-745f2ab97e17"
      },
      "outputs": [
        {
          "output_type": "stream",
          "name": "stdout",
          "text": [
            "Do intervals overlap? True\n",
            "Intersection result (static method): Interval from 3 to 5 is 2\n",
            "Intersection result: Interval from 3 to 5 is 2\n"
          ]
        }
      ],
      "source": [
        "class Interval:\n",
        "    def __init__(self, start, end):\n",
        "        try:\n",
        "            if not (isinstance(start, int) and isinstance(end, int)):\n",
        "                raise TypeError(\"Type Error\")\n",
        "            if start > end:\n",
        "                raise ValueError(\"Input error\")\n",
        "        except (TypeError, ValueError) as error:\n",
        "            print(f\"Error: {error}\")\n",
        "            raise\n",
        "        self.start = start\n",
        "        self.end = end\n",
        "        self.interval = end - start\n",
        "\n",
        "    def __str__(self):\n",
        "        return f'Interval from {self.start} to {self.end} is {self.interval}'\n",
        "\n",
        "    def is_overlapping(self, other):\n",
        "        return not (self.end < other.start or self.start > other.end)\n",
        "\n",
        "    @staticmethod\n",
        "    def intersection_static(self, other):\n",
        "        if self.is_overlapping(other):\n",
        "            new_start = max(self.start, other.start)\n",
        "            new_end = min(self.end, other.end)\n",
        "            return Interval(new_start, new_end)\n",
        "        else:\n",
        "            return None\n",
        "\n",
        "    def __and__(self, other):\n",
        "        if not isinstance(other, Interval):\n",
        "            raise TypeError(\"The & operator can only be used between two Interval objects.\")\n",
        "        return Interval.intersection_static(self, other)\n",
        "\n",
        "interval1 = Interval(1, 5)\n",
        "interval2 = Interval(3, 8)\n",
        "\n",
        "overlap_result = interval1.is_overlapping(interval2)\n",
        "print(\"Do intervals overlap?\", overlap_result) # Do intervals overlap? True\n",
        "\n",
        "intersection_result_static = Interval.intersection_static(interval1, interval2)\n",
        "print(\"Intersection result (static method):\", intersection_result_static) # Intersection result (static method): [3, 5]\n",
        "intersection_result = interval1 & interval2\n",
        "print(\"Intersection result:\", intersection_result) # Intersection result: [3, 5]"
      ]
    },
    {
      "cell_type": "markdown",
      "metadata": {
        "id": "51BGij2Tvoka"
      },
      "source": [
        "### Task 5\n",
        "\n",
        "Expand the `Interval` class by adding a static method named `union_static` that calculates the union of two overlapping intervals. The static method should take two Interval objects as parameters and return a new Interval representing the union if there is one.\n",
        "\n",
        "The method should return `None` if the intervals do not overlap."
      ]
    },
    {
      "cell_type": "code",
      "execution_count": null,
      "metadata": {
        "id": "Xnm1CbK8v2v1"
      },
      "outputs": [],
      "source": [
        "class Interval:\n",
        "    def __init__(self, start, end):\n",
        "        try:\n",
        "            if not (isinstance(start, int) and isinstance(end, int)):\n",
        "                raise TypeError(\"Type Error\")\n",
        "            if start > end:\n",
        "                raise ValueError(\"Input error\")\n",
        "        except (TypeError, ValueError) as error:\n",
        "            print(f\"Error: {error}\")\n",
        "            raise\n",
        "        self.start = start\n",
        "        self.end = end\n",
        "        self.interval = end - start\n",
        "\n",
        "    def __str__(self):\n",
        "        return f'Interval from {self.start} to {self.end} is {self.interval}'\n",
        "\n",
        "    def is_overlapping(self, other):\n",
        "        return not (self.end < other.start or self.start > other.end)\n",
        "\n",
        "    @staticmethod\n",
        "    def intersection_static(self, other):\n",
        "        if self.is_overlapping(other):\n",
        "            new_start = max(self.start, other.start)\n",
        "            new_end = min(self.end, other.end)\n",
        "            return Interval(new_start, new_end)\n",
        "        else:\n",
        "            return None\n",
        "\n",
        "    def __and__(self, other):\n",
        "        if not isinstance(other, Interval):\n",
        "            raise TypeError(\"The & operator can only be used between two Interval objects.\")\n",
        "        return Interval.intersection_static(self, other)\n",
        "\n",
        "    @staticmethod\n",
        "    def union_static(self, other):\n",
        "        if self.is_overlapping(other):\n",
        "            new_start = min(self.start, other.start)\n",
        "            new_end = max(self.end, other.end)\n",
        "            return Interval(new_start, new_end)\n",
        "        else:\n",
        "            return None\n",
        "\n",
        "interval1 = Interval(1, 5)\n",
        "interval2 = Interval(3, 8)\n",
        "\n",
        "overlap_result = interval1.is_overlapping(interval2)\n",
        "print(\"Do intervals overlap?\", overlap_result) # Do intervals overlap? True\n",
        "\n",
        "intersection_result_static = Interval.intersection_static(interval1, interval2)\n",
        "print(\"Intersection result (static method):\", intersection_result_static) # Intersection result (static method): [3, 5]\n",
        "intersection_result = interval1 & interval2\n",
        "print(\"Intersection result:\", intersection_result) # Intersection result: [3, 5]\n",
        "union_result_static = Interval.union_static(interval1, interval2)\n",
        "print(\"Union Result (Static method):\", union_result_static) # Union Result (Static method): [1, 8]"
      ]
    },
    {
      "cell_type": "markdown",
      "metadata": {
        "id": "5yGYlKjCwbzr"
      },
      "source": [
        "### Task 6\n",
        "\n",
        "Expand the `Interval` class by overloading a math operator \"|\" to calculate the union  of two overlapping intervals. Define the logic for the union using the method from the previous task."
      ]
    },
    {
      "cell_type": "code",
      "execution_count": null,
      "metadata": {
        "id": "xjCgPAy5wu1Z"
      },
      "outputs": [],
      "source": [
        "class Interval:\n",
        "    def __init__(self, start, end):\n",
        "        try:\n",
        "            if not (isinstance(start, int) and isinstance(end, int)):\n",
        "                raise TypeError(\"Type Error\")\n",
        "            if start > end:\n",
        "                raise ValueError(\"Input error\")\n",
        "        except (TypeError, ValueError) as error:\n",
        "            print(f\"Error: {error}\")\n",
        "            raise\n",
        "        self.start = start\n",
        "        self.end = end\n",
        "        self.interval = end - start\n",
        "\n",
        "    def __str__(self):\n",
        "        return f'Interval from {self.start} to {self.end} is {self.interval}'\n",
        "\n",
        "    def is_overlapping(self, other):\n",
        "        return not (self.end < other.start or self.start > other.end)\n",
        "\n",
        "    @staticmethod\n",
        "    def intersection_static(self, other):\n",
        "        if self.is_overlapping(other):\n",
        "            new_start = max(self.start, other.start)\n",
        "            new_end = min(self.end, other.end)\n",
        "            return Interval(new_start, new_end)\n",
        "        else:\n",
        "            return None\n",
        "\n",
        "    def __and__(self, other):\n",
        "        if not isinstance(other, Interval):\n",
        "            raise TypeError(\"The & operator can only be used between two Interval objects.\")\n",
        "        return Interval.intersection_static(self, other)\n",
        "\n",
        "    @staticmethod\n",
        "    def union_static(self, other):\n",
        "        if self.is_overlapping(other):\n",
        "            new_start = min(self.start, other.start)\n",
        "            new_end = max(self.end, other.end)\n",
        "            return Interval(new_start, new_end)\n",
        "        else:\n",
        "            return None\n",
        "\n",
        "    def __or__(self, other):\n",
        "        if not isinstance(other, Interval):\n",
        "            raise TypeError(\"The | operator can only be used between two Interval objects.\")\n",
        "        return Interval.union_static(self, other)\n",
        "\n",
        "interval1 = Interval(1, 5)\n",
        "interval2 = Interval(3, 8)\n",
        "\n",
        "overlap_result = interval1.is_overlapping(interval2)\n",
        "print(\"Do intervals overlap?\", overlap_result) # Do intervals overlap? True\n",
        "\n",
        "intersection_result_static = Interval.intersection_static(interval1, interval2)\n",
        "print(\"Intersection result (static method):\", intersection_result_static) # Intersection result (static method): [3, 5]\n",
        "intersection_result = interval1 & interval2\n",
        "print(\"Intersection result:\", intersection_result) # Intersection result: [3, 5]\n",
        "union_result_static = Interval.union_static(interval1, interval2)\n",
        "print(\"Union Result (Static method):\", union_result_static) # Union Result (Static method): [1, 8]\n",
        "\n",
        "union_result = interval1 | interval2\n",
        "print(\"Union Result:\", union_result) # Union Result: [1, 8]"
      ]
    },
    {
      "cell_type": "markdown",
      "metadata": {
        "id": "N-hiSBEK0fbz"
      },
      "source": [
        "### Task 7 (optional)\n",
        "\n",
        "Expand the `Interval` class by overloading the \"-\" operator to calculate the difference between two intervals. The method should return a new `Interval` representing the portion of the first interval that is not in the second."
      ]
    },
    {
      "cell_type": "code",
      "execution_count": 3,
      "metadata": {
        "id": "YZ5AqAXr002L",
        "colab": {
          "base_uri": "https://localhost:8080/"
        },
        "outputId": "7c070593-0c3a-4ab1-9cdc-686ac2fe409d"
      },
      "outputs": [
        {
          "output_type": "stream",
          "name": "stdout",
          "text": [
            "Do intervals overlap? True\n",
            "Intersection result (static method): Interval from 3 to 5 is 2\n",
            "Intersection result: Interval from 3 to 5 is 2\n",
            "Union Result (Static method): Interval from 1 to 8 is 7\n",
            "Union Result: Interval from 1 to 8 is 7\n",
            "Difference Result (interval1 - interval2):\n",
            "Interval from 1 to 3 is 2\n",
            "Difference Result (interval2 - interval1):\n",
            "Interval from 5 to 8 is 3\n"
          ]
        }
      ],
      "source": [
        "class Interval:\n",
        "    def __init__(self, start, end):\n",
        "        try:\n",
        "            if not (isinstance(start, int) and isinstance(end, int)):\n",
        "                raise TypeError(\"Type Error\")\n",
        "            if start > end:\n",
        "                raise ValueError(\"Input error\")\n",
        "        except (TypeError, ValueError) as error:\n",
        "            print(f\"Error: {error}\")\n",
        "            raise\n",
        "        self.start = start\n",
        "        self.end = end\n",
        "        self.interval = end - start\n",
        "\n",
        "    def __str__(self):\n",
        "        return f'Interval from {self.start} to {self.end} is {self.interval}'\n",
        "\n",
        "    def is_overlapping(self, other):\n",
        "        return not (self.end < other.start or self.start > other.end)\n",
        "\n",
        "    @staticmethod\n",
        "    def intersection_static(self, other):\n",
        "        if self.is_overlapping(other):\n",
        "            new_start = max(self.start, other.start)\n",
        "            new_end = min(self.end, other.end)\n",
        "            return Interval(new_start, new_end)\n",
        "        else:\n",
        "            return None\n",
        "\n",
        "    def __and__(self, other):\n",
        "        if not isinstance(other, Interval):\n",
        "            raise TypeError(\"The & operator can only be used between two Interval objects.\")\n",
        "        return Interval.intersection_static(self, other)\n",
        "\n",
        "    @staticmethod\n",
        "    def union_static(self, other):\n",
        "        # Check if the intervals overlap\n",
        "        if self.is_overlapping(other):\n",
        "            # Calculate the union\n",
        "            new_start = min(self.start, other.start)\n",
        "            new_end = max(self.end, other.end)\n",
        "            return Interval(new_start, new_end)\n",
        "        else:\n",
        "            return None\n",
        "\n",
        "    def __or__(self, other):\n",
        "        # Overload the | operator for union\n",
        "        if not isinstance(other, Interval):\n",
        "            raise TypeError(\"The | operator can only be used between two Interval objects.\")\n",
        "        return Interval.union_static(self, other)\n",
        "\n",
        "    def __sub__(self, other):\n",
        "        if not isinstance(other, Interval):\n",
        "            raise TypeError(\"The - operator can only be used between two Interval objects.\")\n",
        "\n",
        "        # If the intervals do not overlap, the difference is the original interval\n",
        "        if not self.is_overlapping(other):\n",
        "            return self\n",
        "\n",
        "        # If interval other is fully contained within self, the difference is empty (None)\n",
        "        if other.start <= self.start and other.end >= self.end:\n",
        "            return None\n",
        "\n",
        "        # If interval other partially overlaps self, return the remaining parts of self\n",
        "        remaining_intervals = []\n",
        "\n",
        "        # Remaining part before the overlap\n",
        "        if other.start > self.start:\n",
        "            remaining_intervals.append(Interval(self.start, min(self.end, other.start)))\n",
        "\n",
        "        # Remaining part after the overlap\n",
        "        if other.end < self.end:\n",
        "            remaining_intervals.append(Interval(max(self.start, other.end), self.end))\n",
        "\n",
        "        # Return the remaining intervals that represent the difference\n",
        "        if remaining_intervals:\n",
        "            return remaining_intervals\n",
        "        else:\n",
        "            return None\n",
        "\n",
        "interval1 = Interval(1, 5)\n",
        "interval2 = Interval(3, 8)\n",
        "\n",
        "overlap_result = interval1.is_overlapping(interval2)\n",
        "print(\"Do intervals overlap?\", overlap_result) # Do intervals overlap? True\n",
        "\n",
        "intersection_result_static = Interval.intersection_static(interval1, interval2)\n",
        "print(\"Intersection result (static method):\", intersection_result_static) # Intersection result (static method): [3, 5]\n",
        "intersection_result = interval1 & interval2\n",
        "print(\"Intersection result:\", intersection_result) # Intersection result: [3, 5]\n",
        "union_result_static = Interval.union_static(interval1, interval2)\n",
        "print(\"Union Result (Static method):\", union_result_static) # Union Result (Static method): [1, 8]\n",
        "\n",
        "union_result = interval1 | interval2\n",
        "print(\"Union Result:\", union_result) # Union Result: [1, 8]\n",
        "difference_result_1 = interval1 - interval2\n",
        "if isinstance(difference_result_1, list):\n",
        "    print(\"Difference Result (interval1 - interval2):\")\n",
        "    for item in difference_result_1:\n",
        "        print(item)\n",
        "else:\n",
        "    print(\"Difference Result (interval1 - interval2):\", difference_result_1)\n",
        "\n",
        "difference_result_2 = interval2 - interval1\n",
        "if isinstance(difference_result_2, list):\n",
        "    print(\"Difference Result (interval2 - interval1):\")\n",
        "    for item in difference_result_2:\n",
        "        print(item)\n",
        "else:\n",
        "    print(\"Difference Result (interval2 - interval1):\", difference_result_2)"
      ]
    }
  ],
  "metadata": {
    "colab": {
      "provenance": [],
      "toc_visible": true,
      "include_colab_link": true
    },
    "kernelspec": {
      "display_name": "Python 3",
      "name": "python3"
    },
    "language_info": {
      "name": "python"
    }
  },
  "nbformat": 4,
  "nbformat_minor": 0
}