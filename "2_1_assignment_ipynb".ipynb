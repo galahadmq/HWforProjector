{
  "cells": [
    {
      "cell_type": "markdown",
      "metadata": {
        "id": "view-in-github",
        "colab_type": "text"
      },
      "source": [
        "<a href=\"https://colab.research.google.com/github/galahadmq/HWforProjector/blob/master/%222_1_assignment_ipynb%22.ipynb\" target=\"_parent\"><img src=\"https://colab.research.google.com/assets/colab-badge.svg\" alt=\"Open In Colab\"/></a>"
      ]
    },
    {
      "cell_type": "markdown",
      "metadata": {
        "id": "-89_Z_je0cfL"
      },
      "source": [
        "# Assignment 2.1\n",
        "\n",
        "> Replace all TODOs with your code.\n",
        ">\n",
        "> Do not change any other code and do not add/remove cells!"
      ]
    },
    {
      "cell_type": "markdown",
      "source": [
        "## Logical operators"
      ],
      "metadata": {
        "id": "w6E-GxTB0j4M"
      }
    },
    {
      "cell_type": "markdown",
      "metadata": {
        "id": "iEwuf_DP0cfM"
      },
      "source": [
        "### Task 1\n",
        "\n",
        "You have two switches: `switch1` and `switch2`. `True` - switch is on, `False` - switch is off.\n",
        "\n",
        "Implement a logical expression that turns the `res` on only when either `switch1` or `switch2` is on, but not both."
      ]
    },
    {
      "cell_type": "code",
      "execution_count": 2,
      "metadata": {
        "tags": [],
        "id": "IWVOCWxx0cfM",
        "colab": {
          "base_uri": "https://localhost:8080/"
        },
        "outputId": "cbb7bd23-f516-4475-e7c0-cac1656e376a"
      },
      "outputs": [
        {
          "output_type": "stream",
          "name": "stdout",
          "text": [
            "res = True\n"
          ]
        }
      ],
      "source": [
        "switch1 = True\n",
        "switch2 = False\n",
        "\n",
        "res = switch1 or switch2\n",
        "\n",
        "print('res =', res) # should be True"
      ]
    },
    {
      "cell_type": "markdown",
      "source": [
        "## Conditionals"
      ],
      "metadata": {
        "id": "mZydlWw_0wzt"
      }
    },
    {
      "cell_type": "markdown",
      "metadata": {
        "id": "2z8HqsaK0cfN"
      },
      "source": [
        "### Task 2\n",
        "\n",
        "Declare variable `a` with some number. If the number is divisible by 5, print 'Yes', otherwise print 'No'."
      ]
    },
    {
      "cell_type": "code",
      "execution_count": 5,
      "metadata": {
        "id": "kva_9ycA0cfN",
        "colab": {
          "base_uri": "https://localhost:8080/"
        },
        "outputId": "bc52fa2a-b0ea-49a1-fee6-6d783546fef3"
      },
      "outputs": [
        {
          "output_type": "stream",
          "name": "stdout",
          "text": [
            "enter digit:12\n",
            "no\n"
          ]
        }
      ],
      "source": [
        "a = int(input('enter digit:'))\n",
        "\n",
        "if a % 5 == 0:\n",
        "    print('yes')\n",
        "else:\n",
        "    print('no')"
      ]
    },
    {
      "cell_type": "markdown",
      "metadata": {
        "id": "IqjW7SGS0cfN"
      },
      "source": [
        "### Task 3\n",
        "\n",
        "You have string `a`. If it is an empty string, assign to it a string 'empty'; otherwise, repeat the string five times."
      ]
    },
    {
      "cell_type": "code",
      "execution_count": 11,
      "metadata": {
        "id": "p83RQvA40cfN",
        "colab": {
          "base_uri": "https://localhost:8080/"
        },
        "outputId": "79e7064f-8a1b-4b1c-9fe1-3631ceb63494"
      },
      "outputs": [
        {
          "output_type": "stream",
          "name": "stdout",
          "text": [
            "Enter smth:123\n",
            "123\n",
            "123\n",
            "123\n",
            "123\n",
            "123\n",
            "res = True\n"
          ]
        }
      ],
      "source": [
        "a = input('Enter smth:')\n",
        "index = 1\n",
        "if a == '':\n",
        "  print('empty')\n",
        "else:\n",
        "  while index <= 5:\n",
        "    print(a)\n",
        "    index += 1\n",
        "\n",
        "print('res =', res)"
      ]
    },
    {
      "cell_type": "markdown",
      "source": [
        "## Loops"
      ],
      "metadata": {
        "id": "xC6HlC7Ni998"
      }
    },
    {
      "cell_type": "markdown",
      "metadata": {
        "id": "CKS_sLMj0cfN"
      },
      "source": [
        "### Task 4\n",
        "Let's calculate the sum of the first `n` terms of the [harmonic series](https://en.wikipedia.org/wiki/Harmonic_series_(mathematics))."
      ]
    },
    {
      "cell_type": "code",
      "execution_count": 14,
      "metadata": {
        "id": "tXZbJ3Jn0cfN",
        "colab": {
          "base_uri": "https://localhost:8080/"
        },
        "outputId": "b3600e38-0a9d-41aa-af62-1fd5e0e8c06d"
      },
      "outputs": [
        {
          "output_type": "stream",
          "name": "stdout",
          "text": [
            "res = 2.9289682539682538\n"
          ]
        }
      ],
      "source": [
        "n = 10\n",
        "res = 0\n",
        "\n",
        "i = 0\n",
        "\n",
        "while i < n:\n",
        "  res += (1/(i+1))\n",
        "  i +=1\n",
        "\n",
        "\n",
        "print('res =', res) # for n=10 should be 2.928968..."
      ]
    },
    {
      "cell_type": "markdown",
      "metadata": {
        "id": "a1oauilt0cfN"
      },
      "source": [
        "### Task 5\n",
        "Let's calculate the sum of the first `n` terms of the [alternating harmonic series](https://en.wikipedia.org/wiki/Harmonic_series_(mathematics)#Alternating_harmonic_series)."
      ]
    },
    {
      "cell_type": "code",
      "execution_count": 18,
      "metadata": {
        "id": "CLgRuR0H0cfO",
        "colab": {
          "base_uri": "https://localhost:8080/"
        },
        "outputId": "3fe30d4a-1e74-4c6f-9d47-5538e2ca12b9"
      },
      "outputs": [
        {
          "output_type": "stream",
          "name": "stdout",
          "text": [
            "res = 0.6456349206349207\n"
          ]
        }
      ],
      "source": [
        "n = 10\n",
        "res = 0\n",
        "i = 1\n",
        "while i <= n:\n",
        "  res += ((-1)**(i-1))/i\n",
        "  i += 1\n",
        "\n",
        "print('res =', res)  # for n=10 should be 0.6456349..."
      ]
    },
    {
      "cell_type": "markdown",
      "source": [
        "### Task 6 (Optional)\n",
        "\n",
        "Write a program that prints the reverse of a given string using a while loop."
      ],
      "metadata": {
        "id": "eZ-ucgAolFCa"
      }
    },
    {
      "cell_type": "code",
      "source": [
        "string = \"some_string\"\n",
        "reverse = \"\"\n",
        "index = len(string) - 1\n",
        "while index >= 0:\n",
        "    reverse += string[index]\n",
        "    index -= 1\n",
        "\n",
        "print(\"Reverse =\", reverse)  # should be \"gnirts_emos\""
      ],
      "metadata": {
        "id": "WeTfYFSdlHxF",
        "colab": {
          "base_uri": "https://localhost:8080/"
        },
        "outputId": "2ca0cd67-7508-4d64-8f00-ad5981c741f1"
      },
      "execution_count": 34,
      "outputs": [
        {
          "output_type": "stream",
          "name": "stdout",
          "text": [
            "Reverse = gnirts_emos\n"
          ]
        }
      ]
    },
    {
      "cell_type": "markdown",
      "source": [
        "## Match"
      ],
      "metadata": {
        "id": "2R8JdPm2ps1s"
      }
    },
    {
      "cell_type": "markdown",
      "source": [
        "### Task 7\n",
        "\n",
        "You have `shape` (such as \"square\", \"circle\", or \"triangle\"). Use a match statement to identify and classify the shape."
      ],
      "metadata": {
        "id": "kvZBp2fOputr"
      }
    },
    {
      "cell_type": "code",
      "source": [
        "shape = \"triangle\"\n",
        "\n",
        "match shape:\n",
        "    case \"square\":\n",
        "        print(\"This is a square.\")\n",
        "    case \"triangle\":\n",
        "      print(\"This is a triangle\")\n",
        "    case \"circle\":\n",
        "      print(\"This is a circle\")\n",
        "\n",
        "\n",
        "# should print \"This is a triangle\""
      ],
      "metadata": {
        "id": "tLDTs8lqpuXQ",
        "colab": {
          "base_uri": "https://localhost:8080/"
        },
        "outputId": "31768807-9076-4665-8d3f-b9c347865658"
      },
      "execution_count": 35,
      "outputs": [
        {
          "output_type": "stream",
          "name": "stdout",
          "text": [
            "This is a triangle\n"
          ]
        }
      ]
    },
    {
      "cell_type": "markdown",
      "source": [
        "### Task 8 (optional)\n",
        "\n",
        "Write a function called `process_data` that takes some data as a parameter and performs operations based on the data type using a match statement. You can use any operation of your choice.\n"
      ],
      "metadata": {
        "id": "Ih9N47crqpnM"
      }
    },
    {
      "cell_type": "code",
      "source": [
        "def process_data(data):\n",
        "    match data:\n",
        "        case int(data_int):\n",
        "            return f\"Processing number: {data_int * 2}\"\n",
        "        case float(data_float):\n",
        "            return f\"Processing number: {data_float - 1.5}\"\n",
        "        case str(data_str):\n",
        "            return f\"Processing number: {data_str + ' this is str'}\"\n",
        "        case bool(data_bool):\n",
        "            return f\"Processing boolean: {'True' if data_bool else 'False'}\"\n",
        "        case _:\n",
        "            return f\"Either\"\n",
        "\n",
        "answer = process_data(11)\n",
        "print(answer)"
      ],
      "metadata": {
        "id": "_P8jKfQFqu2d"
      },
      "execution_count": null,
      "outputs": []
    },
    {
      "cell_type": "markdown",
      "source": [
        "### Task 9 (optional)\n",
        "\n",
        "Write a function called `process_options` that takes an `option` as a parameter and performs actions based on the match statement. You can perform any action of your choice."
      ],
      "metadata": {
        "id": "F9bw1VqusCQc"
      }
    },
    {
      "cell_type": "code",
      "source": [
        "def process_options(option):\n",
        "    match option:\n",
        "        case \"A\" | \"a\":\n",
        "            print(\"Option A selected.\")\n",
        "        case \"B\" | \"b\":\n",
        "            print(\"Option B selected.\")\n",
        "        case \"C\" | \"C\":\n",
        "            print(\"Option C selected.\")\n",
        "        case _:\n",
        "            print(\"Invalid input\")\n",
        "        # TODO options B, C, and default case\n",
        "\n",
        "\n",
        "process_options('bla')  # should print \"Invalid input\""
      ],
      "metadata": {
        "id": "JeJ-4D9uq43v",
        "colab": {
          "base_uri": "https://localhost:8080/"
        },
        "outputId": "688c8cb1-0a84-4a37-eeb2-271c8fa9e91a"
      },
      "execution_count": 37,
      "outputs": [
        {
          "output_type": "stream",
          "name": "stdout",
          "text": [
            "Option A selected.\n"
          ]
        }
      ]
    }
  ],
  "metadata": {
    "kernelspec": {
      "display_name": "venv",
      "language": "python",
      "name": "python3"
    },
    "language_info": {
      "codemirror_mode": {
        "name": "ipython",
        "version": 3
      },
      "file_extension": ".py",
      "mimetype": "text/x-python",
      "name": "python",
      "nbconvert_exporter": "python",
      "pygments_lexer": "ipython3",
      "version": "3.9.6"
    },
    "orig_nbformat": 4,
    "colab": {
      "provenance": [],
      "include_colab_link": true
    }
  },
  "nbformat": 4,
  "nbformat_minor": 0
}