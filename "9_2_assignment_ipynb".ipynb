{
  "cells": [
    {
      "cell_type": "markdown",
      "metadata": {
        "id": "view-in-github",
        "colab_type": "text"
      },
      "source": [
        "<a href=\"https://colab.research.google.com/github/galahadmq/HWforProjector/blob/main/%229_2_assignment_ipynb%22.ipynb\" target=\"_parent\"><img src=\"https://colab.research.google.com/assets/colab-badge.svg\" alt=\"Open In Colab\"/></a>"
      ]
    },
    {
      "cell_type": "markdown",
      "metadata": {
        "id": "oY7M_WqQy7zz"
      },
      "source": [
        "# Assignment 9.2\n",
        "\n",
        "> Replace all TODOs with your code. Do not change any other code."
      ]
    },
    {
      "cell_type": "code",
      "execution_count": null,
      "metadata": {
        "id": "mnm_mM7I9Xx0"
      },
      "outputs": [],
      "source": [
        "# Do not edit this cell\n",
        "\n",
        "from typing import List"
      ]
    },
    {
      "cell_type": "markdown",
      "metadata": {
        "id": "Jz8SYjAz0N8D"
      },
      "source": [
        "## Descriptive statistics\n",
        "\n",
        "In this assignment, we will write the functions to calculate the basic statistics from scratch, not using numpy."
      ]
    },
    {
      "cell_type": "markdown",
      "metadata": {
        "id": "IHwd1Zzby7z1"
      },
      "source": [
        "### Task 1\n",
        "\n",
        "Let's start simple: write a function `mean` that calculates the average of the list.\n",
        "\n",
        "$$\\mu = \\frac{{\\sum_{i=1}^n x_i}}{{n}}$$"
      ]
    },
    {
      "cell_type": "code",
      "execution_count": 2,
      "metadata": {
        "id": "UfB0dnXHy7z2",
        "tags": [
          "task_1"
        ]
      },
      "outputs": [],
      "source": [
        "from typing import List\n",
        "def mean(li: List[float]) -> float:\n",
        "    return sum(li) / len(li)\n",
        "\n",
        "\n",
        "assert mean([1., 2., 3.]) == 2.\n",
        "assert mean([1., 1., 2., 0.]) == 1."
      ]
    },
    {
      "cell_type": "markdown",
      "metadata": {
        "id": "lL-ELM-Ay7z2"
      },
      "source": [
        "### Task 2\n",
        "\n",
        "Now let's calculate variance (dispersion). You may use the `mean` function implemented before.\n",
        "\n",
        "$$V = \\frac{{\\sum_{i=1}^n (x_i - \\mu)^2}}{{n}}$$"
      ]
    },
    {
      "cell_type": "code",
      "execution_count": 3,
      "metadata": {
        "id": "cibiSsjry7z3",
        "tags": [
          "task_2"
        ]
      },
      "outputs": [],
      "source": [
        "def variance(li: List[float]) -> float:\n",
        "    mean_value = sum(li) / len(li)\n",
        "    return sum((x - mean_value) ** 2 for x in li) / len(li)\n",
        "\n",
        "\n",
        "assert variance([1., 1., 1.]) == 0.\n",
        "assert variance([1., 2., 3., 4.]) == 1.25"
      ]
    },
    {
      "cell_type": "markdown",
      "metadata": {
        "id": "YSAUJe1u9XyM"
      },
      "source": [
        "### Task 3\n",
        "\n",
        "The standard deviation is easy once you get the variance:\n",
        "\n",
        "$$\\sigma = \\sqrt{V}$$"
      ]
    },
    {
      "cell_type": "code",
      "execution_count": null,
      "metadata": {
        "tags": [
          "task_3"
        ],
        "id": "8cr3iHPR9XyO"
      },
      "outputs": [],
      "source": [
        "def std(li: List[float]) -> float:\n",
        "    return np.sqrt(np.var(li))\n",
        "\n",
        "\n",
        "assert std([1., 1., 1.]) == 0.\n",
        "assert std([1., 2., 3., 4.]) == 1.25**0.5"
      ]
    },
    {
      "cell_type": "markdown",
      "metadata": {
        "id": "2I481Gkj9XyR"
      },
      "source": [
        "### Task 4\n",
        "\n",
        "**Median**\n",
        "\n",
        "The median is the middle value in a sorted dataset. If the dataset has an odd number of values, the median is the value at the center. If the dataset has an even number of values, the median is the average of the two middle values."
      ]
    },
    {
      "cell_type": "code",
      "execution_count": 4,
      "metadata": {
        "tags": [
          "task_4"
        ],
        "id": "0BEoTR119XyT",
        "colab": {
          "base_uri": "https://localhost:8080/",
          "height": 193
        },
        "outputId": "eee5ec75-edbe-4838-878a-337293a743fc"
      },
      "outputs": [
        {
          "output_type": "error",
          "ename": "AssertionError",
          "evalue": "",
          "traceback": [
            "\u001b[0;31m---------------------------------------------------------------------------\u001b[0m",
            "\u001b[0;31mAssertionError\u001b[0m                            Traceback (most recent call last)",
            "\u001b[0;32m<ipython-input-4-3bb6245e33e1>\u001b[0m in \u001b[0;36m<cell line: 8>\u001b[0;34m()\u001b[0m\n\u001b[1;32m      6\u001b[0m \u001b[0;34m\u001b[0m\u001b[0m\n\u001b[1;32m      7\u001b[0m \u001b[0;34m\u001b[0m\u001b[0m\n\u001b[0;32m----> 8\u001b[0;31m \u001b[0;32massert\u001b[0m \u001b[0mmedian\u001b[0m\u001b[0;34m(\u001b[0m\u001b[0;34m[\u001b[0m\u001b[0;36m1.\u001b[0m\u001b[0;34m,\u001b[0m \u001b[0;36m1.\u001b[0m\u001b[0;34m,\u001b[0m \u001b[0;36m1.\u001b[0m\u001b[0;34m]\u001b[0m\u001b[0;34m)\u001b[0m \u001b[0;34m==\u001b[0m \u001b[0;36m1.\u001b[0m\u001b[0;34m\u001b[0m\u001b[0;34m\u001b[0m\u001b[0m\n\u001b[0m\u001b[1;32m      9\u001b[0m \u001b[0;32massert\u001b[0m \u001b[0mmedian\u001b[0m\u001b[0;34m(\u001b[0m\u001b[0;34m[\u001b[0m\u001b[0;36m1.\u001b[0m\u001b[0;34m,\u001b[0m \u001b[0;36m4.\u001b[0m\u001b[0;34m,\u001b[0m \u001b[0;36m3.\u001b[0m\u001b[0;34m,\u001b[0m \u001b[0;36m2.\u001b[0m\u001b[0;34m]\u001b[0m\u001b[0;34m)\u001b[0m \u001b[0;34m==\u001b[0m \u001b[0;36m2.5\u001b[0m\u001b[0;34m\u001b[0m\u001b[0;34m\u001b[0m\u001b[0m\n",
            "\u001b[0;31mAssertionError\u001b[0m: "
          ]
        }
      ],
      "source": [
        "import math\n",
        "def median(li: List[float]) -> float:\n",
        "    mean_value = sum(li) / len(li)\n",
        "    variance = sum((x - mean_value) ** 2 for x in li) / len(li)\n",
        "    return math.sqrt(variance)\n",
        "\n",
        "\n",
        "assert median([1., 1., 1.]) == 1.\n",
        "assert median([1., 4., 3., 2.]) == 2.5"
      ]
    },
    {
      "cell_type": "markdown",
      "metadata": {
        "id": "5DzFkKwx0VI5"
      },
      "source": [
        "## Measure performance\n",
        "\n",
        "Sometimes, apart from theoretical, algorithmic complexity, it's a good idea to compare the runtime of two algorithms empirically, i.e., run the code many times and time it.\n",
        "\n",
        "In Python's standard library, we have [timeit](https://docs.python.org/3/library/timeit.html) module that does exactly that.\n",
        "\n",
        "Let's compare the runtime of your implementations and numpy. Use the provided setup code:"
      ]
    },
    {
      "cell_type": "code",
      "execution_count": 11,
      "metadata": {
        "id": "wlNX3Jyz9XyV",
        "colab": {
          "base_uri": "https://localhost:8080/"
        },
        "outputId": "f51b1757-c1a3-4489-9ee2-06d14e42cc2c"
      },
      "outputs": [
        {
          "output_type": "stream",
          "name": "stdout",
          "text": [
            "mean: 0.006446 seconds\n",
            "variance: 0.006130 seconds\n",
            "std: 0.005962 seconds\n",
            "median: 0.011566 seconds\n",
            "numpy_mean: 0.000308 seconds\n",
            "numpy_var: 0.000517 seconds\n",
            "numpy_std: 0.000638 seconds\n",
            "numpy_median: 0.001838 seconds\n"
          ]
        }
      ],
      "source": [
        "import timeit\n",
        "import random\n",
        "import numpy as np\n",
        "from typing import List\n",
        "\n",
        "\n",
        "def numpy_mean(arr: np.ndarray) -> float:\n",
        "    return np.mean(arr)\n",
        "\n",
        "def numpy_variance(arr: np.ndarray) -> float:\n",
        "    return np.var(arr)\n",
        "\n",
        "def numpy_std(arr: np.ndarray) -> float:\n",
        "    return np.std(arr)\n",
        "\n",
        "def numpy_median(arr: np.ndarray) -> float:\n",
        "    return np.median(arr)\n",
        "\n",
        "setup = '''\n",
        "import random\n",
        "import numpy as np\n",
        "\n",
        "arr = np.random.rand(10_000) * 100\n",
        "li = [random.random() * 100 for _ in range(10_000)]\n",
        "\n",
        "from numpy import mean, var, std, median\n",
        "'''\n",
        "\n",
        "funcs = {\n",
        "    'mean': 'mean(li)',\n",
        "    'variance': 'var(li)',\n",
        "    'std': 'std(li)',\n",
        "    'median': 'median(li)',\n",
        "    'numpy_mean': 'np.mean(arr)',\n",
        "    'numpy_var': 'np.var(arr)',\n",
        "    'numpy_std': 'np.std(arr)',\n",
        "    'numpy_median': 'np.median(arr)',\n",
        "}\n",
        "\n",
        "for name, func in funcs.items():\n",
        "    runtime = timeit.timeit(func, setup=setup, number=10)\n",
        "    print(f\"{name}: {runtime:.6f} seconds\")\n",
        "\n"
      ]
    },
    {
      "cell_type": "markdown",
      "metadata": {
        "id": "nP0LlORsy7z4"
      },
      "source": [
        "### Task 5\n",
        "\n",
        "Complete Python statements to compare your functions to numpy. Use `li` for your function and `arr` for numpy functions."
      ]
    },
    {
      "cell_type": "code",
      "execution_count": null,
      "metadata": {
        "id": "RiIm_kUSy7z4",
        "tags": [
          "task_5"
        ]
      },
      "outputs": [],
      "source": [
        "stmt_mean_custom = 'mean(li)'\n",
        "stmt_mean_np = 'np.mean(arr)'\n",
        "\n",
        "stmt_var_custom = 'variance(li)'\n",
        "stmt_var_np = 'np.var(arr)'\n",
        "stmt_std_custom = 'std(li)'\n",
        "stmt_std_np = 'np.std(arr)'\n",
        "\n",
        "stmt_median_custom = 'median(li)'\n",
        "stmt_median_np = 'np.median(arr)'"
      ]
    },
    {
      "cell_type": "markdown",
      "metadata": {
        "id": "hU1yDEnzy7z4"
      },
      "source": [
        "### Task 6\n",
        "\n",
        "Measure average exec time of your statements with `timeit` module. As your submission, fill out the table with results (rounded to 2 decimal places)"
      ]
    },
    {
      "cell_type": "code",
      "execution_count": null,
      "metadata": {
        "id": "8sOSsdKiy7z4",
        "tags": [
          "task_6"
        ]
      },
      "outputs": [],
      "source": [
        "import timeit\n",
        "import numpy as np\n",
        "import random\n",
        "\n",
        "# Setup code to define variables and import necessary functions\n",
        "setup = '''\n",
        "import random\n",
        "import numpy as np\n",
        "\n",
        "arr = np.random.rand(10_000) * 100\n",
        "li = [random.random() * 100 for _ in range(10_000)]\n",
        "\n",
        "from numpy import mean, var, std, median\n",
        "'''\n",
        "\n",
        "# Function definitions for custom methods\n",
        "def numpy_mean(arr: np.ndarray) -> float:\n",
        "    return np.mean(arr)\n",
        "\n",
        "def numpy_variance(arr: np.ndarray) -> float:\n",
        "    return np.var(arr)\n",
        "\n",
        "def numpy_std(arr: np.ndarray) -> float:\n",
        "    return np.std(arr)\n",
        "\n",
        "def numpy_median(arr: np.ndarray) -> float:\n",
        "    return np.median(arr)\n",
        "\n",
        "# Statements to compare custom vs numpy functions\n",
        "stmt_mean_custom = 'mean(li)'\n",
        "stmt_mean_np = 'np.mean(arr)'\n",
        "\n",
        "stmt_var_custom = 'variance(li)'\n",
        "stmt_var_np = 'np.var(arr)'\n",
        "\n",
        "stmt_std_custom = 'std(li)'\n",
        "stmt_std_np = 'np.std(arr)'\n",
        "\n",
        "stmt_median_custom = 'median(li)'\n",
        "stmt_median_np = 'np.median(arr)'\n",
        "\n",
        "# Measure execution times using timeit\n",
        "mean_custom_time = timeit.timeit(stmt=stmt_mean_custom, setup=setup, globals=globals(), number=10_000)\n",
        "mean_np_time = timeit.timeit(stmt=stmt_mean_np, setup=setup, globals=globals(), number=10_000)\n",
        "\n",
        "var_custom_time = timeit.timeit(stmt=stmt_var_custom, setup=setup, globals=globals(), number=10_000)\n",
        "var_np_time = timeit.timeit(stmt=stmt_var_np, setup=setup, globals=globals(), number=10_000)\n",
        "\n",
        "std_custom_time = timeit.timeit(stmt=stmt_std_custom, setup=setup, globals=globals(), number=10_000)\n",
        "std_np_time = timeit.timeit(stmt=stmt_std_np, setup=setup, globals=globals(), number=10_000)\n",
        "\n",
        "median_custom_time = timeit.timeit(stmt=stmt_median_custom, setup=setup, globals=globals(), number=10_000)\n",
        "median_np_time = timeit.timeit(stmt=stmt_median_np, setup=setup, globals=globals(), number=10_000)\n",
        "\n",
        "# Print results rounded to 2 decimal places\n",
        "print(f\"Mean (Custom): {mean_custom_time:.2f} seconds\")\n",
        "print(f\"Mean (Numpy): {mean_np_time:.2f} seconds\")\n",
        "\n",
        "print(f\"Variance (Custom): {var_custom_time:.2f} seconds\")\n",
        "print(f\"Variance (Numpy): {var_np_time:.2f} seconds\")\n",
        "\n",
        "print(f\"Standard Deviation (Custom): {std_custom_time:.2f} seconds\")\n",
        "print(f\"Standard Deviation (Numpy): {std_np_time:.2f} seconds\")\n",
        "\n",
        "print(f\"Median (Custom): {median_custom_time:.2f} seconds\")\n",
        "print(f\"Median (Numpy): {median_np_time:.2f} seconds\")\n"
      ]
    },
    {
      "cell_type": "markdown",
      "metadata": {
        "id": "NbbRIcyqy7z4"
      },
      "source": [
        "Time per 10000 executions, secs\n",
        "\n",
        "| Func       | Custom | Numpy |\n",
        "| ---------- | ------ | ----- |\n",
        "| mean       |        |       |\n",
        "| var        |        |       |\n",
        "| std        |        |       |\n",
        "| median     |        |       |"
      ]
    }
  ],
  "metadata": {
    "colab": {
      "provenance": [],
      "toc_visible": true,
      "include_colab_link": true
    },
    "kernelspec": {
      "display_name": "venv",
      "language": "python",
      "name": "python3"
    },
    "language_info": {
      "codemirror_mode": {
        "name": "ipython",
        "version": 3
      },
      "file_extension": ".py",
      "mimetype": "text/x-python",
      "name": "python",
      "nbconvert_exporter": "python",
      "pygments_lexer": "ipython3",
      "version": "3.9.6"
    },
    "orig_nbformat": 4
  },
  "nbformat": 4,
  "nbformat_minor": 0
}