{
  "cells": [
    {
      "cell_type": "markdown",
      "metadata": {
        "id": "view-in-github",
        "colab_type": "text"
      },
      "source": [
        "<a href=\"https://colab.research.google.com/github/galahadmq/HWforProjector/blob/main/%2210_2_assignment_ipynb%22.ipynb\" target=\"_parent\"><img src=\"https://colab.research.google.com/assets/colab-badge.svg\" alt=\"Open In Colab\"/></a>"
      ]
    },
    {
      "cell_type": "markdown",
      "metadata": {
        "id": "oY7M_WqQy7zz"
      },
      "source": [
        "# Assignment 10.2\n",
        "\n",
        "> Replace all TODOs with your code. Do not change any other code."
      ]
    },
    {
      "cell_type": "code",
      "execution_count": null,
      "metadata": {
        "id": "DCZ2nU3KCFyk"
      },
      "outputs": [],
      "source": [
        "# Do not edit this cell\n",
        "\n",
        "import csv\n",
        "import unittest\n"
      ]
    },
    {
      "cell_type": "markdown",
      "metadata": {
        "id": "Jz8SYjAz0N8D"
      },
      "source": [
        "## Clean code"
      ]
    },
    {
      "cell_type": "markdown",
      "metadata": {
        "id": "IHwd1Zzby7z1"
      },
      "source": [
        "### Task 1\n",
        "\n",
        "You are given a function that reads a csv file with temperature measurements (see example below), converts Fahrenheit values to Celsius, calculates and prints some statistics, and writes to another file. It looks a bit messy, let's clean it up!\n",
        "\n",
        "Example file:\n",
        "```csv\n",
        "Temperature (F)\n",
        "78.5\n",
        "81.2\n",
        "75.9\n",
        "82.1\n",
        "```\n",
        "\n",
        "Do the steps below one by one, editing the code in the cell:\n",
        "1. Naming is so ambiguous and unclear, let's rename variables and function name with proper names.\n",
        "2. Are these comments really useful?\n",
        "3. This function does quite a lot, let's divide it in the way that each function does only one thing, and there's one main function that uses others.\n",
        "4. There seem to be some magic coefficients in the temperature conversion part; let's make them obvious.\n",
        "\n",
        "If you find any additional improvements, feel free to implement them and leave a comment under your code with an explanation."
      ]
    },
    {
      "cell_type": "code",
      "execution_count": null,
      "metadata": {
        "tags": [
          "task_1"
        ],
        "id": "uBoo2azsCFyv"
      },
      "outputs": [],
      "source": [
        "def process_data(f1, f2):\n",
        "    li = []\n",
        "\n",
        "    # Read temperature\n",
        "    with open(f1, 'r') as a:\n",
        "        r = csv.reader(a)\n",
        "        next(r)  # Skip header row\n",
        "        for i in r:\n",
        "            e = float(i[0])\n",
        "            r = (e - 32) * 5 / 9\n",
        "            li.append(r)\n",
        "\n",
        "    # Calculate statistics\n",
        "    average_temperature = sum(li) / len(li)\n",
        "    minimum_temperature= min(li)\n",
        "    maximum_temperature = max(li)\n",
        "\n",
        "    # Print statistics\n",
        "    print(\"Statistics:\\n\" + f\"Average: .2f°C{format(average_temperature)}\\n\"\n",
        "                            f\" Minimum: .2f°C{format(minimum_temperature)}\\n\"\n",
        "                            f\" Maximum: .2f°C{format(maximum_temperature)}\\n\")\n",
        "\n",
        "    # Output CSV\n",
        "    with open(f2, 'w', newline='') as a:\n",
        "        w = csv.writer(a)\n",
        "        w.writerow(['Temperature (C)'])\n",
        "        for i in li:\n",
        "            w.writerow(i)\n"
      ]
    },
    {
      "cell_type": "markdown",
      "metadata": {
        "id": "lL-ELM-Ay7z2"
      },
      "source": [
        "### Task 2\n",
        "\n",
        "How would you write tests for the initial implementation? What exactly would you test in the function?\n",
        "\n",
        "I hope you see now that once functionality is separated, it's easier to test it in isolation. So, let's write a couple of unit tests for your function and one integration test for your main function.\n",
        "\n",
        "Hint: you would probably want to mock reading from/writing to file to make the test independent from the environment."
      ]
    },
    {
      "cell_type": "code",
      "execution_count": 1,
      "metadata": {
        "id": "cibiSsjry7z3",
        "tags": [
          "task_2"
        ]
      },
      "outputs": [],
      "source": [
        "import unittest\n",
        "from unittest.mock import mock_open, patch\n",
        "\n",
        "class UnitTestCase(unittest.TestCase):\n",
        "\n",
        "    @patch(\"builtins.open\", mock_open(read_data=\"some data\"))\n",
        "    def test_process_data(self):\n",
        "        with patch(\"builtins.open\", mock_open(read_data=\"some data\")) as mocked_file:\n",
        "            process_data(\"input.txt\", \"output.txt\")\n",
        "            mocked_file.assert_called_with(\"input.txt\", 'r')\n",
        "            mocked_file.return_value.write.assert_called_with(\"SOME DATA\")\n",
        "            mocked_file.return_value.write.assert_called_once_with(\"SOME DATA\")\n",
        "\n",
        "\n",
        "class IntegrationTestCase(unittest.TestCase):\n",
        "\n",
        "    @patch(\"builtins.open\", mock_open(read_data=\"some data\"))\n",
        "    def test_process_data_integration(self):\n",
        "        process_data(\"input.txt\", \"output.txt\")\n",
        "        with open(\"input.txt\", 'r') as infile:\n",
        "            self.assertEqual(infile.read(), \"some data\")\n",
        "\n",
        "        with open(\"output.txt\", 'w') as outfile:\n",
        "            self.assertEqual(outfile.write.call_args[0][0], \"SOME DATA\")\n"
      ]
    }
  ],
  "metadata": {
    "colab": {
      "provenance": [],
      "include_colab_link": true
    },
    "kernelspec": {
      "display_name": "venv",
      "language": "python",
      "name": "python3"
    },
    "language_info": {
      "codemirror_mode": {
        "name": "ipython",
        "version": 3
      },
      "file_extension": ".py",
      "mimetype": "text/x-python",
      "name": "python",
      "nbconvert_exporter": "python",
      "pygments_lexer": "ipython3",
      "version": "3.11.5"
    },
    "orig_nbformat": 4
  },
  "nbformat": 4,
  "nbformat_minor": 0
}